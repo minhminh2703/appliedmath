{
 "cells": [
  {
   "cell_type": "markdown",
   "metadata": {},
   "source": [
    "# <center>Đồ án 3: Linear Regression</center>"
   ]
  },
  {
   "cell_type": "markdown",
   "metadata": {},
   "source": [
    "# Thông tin sinh viên\n",
    "\n",
    "- Họ và tên: \n",
    "- MSSV: \n",
    "- Lớp: "
   ]
  },
  {
   "cell_type": "markdown",
   "metadata": {},
   "source": [
    "# Import"
   ]
  },
  {
   "cell_type": "code",
   "execution_count": 2,
   "metadata": {},
   "outputs": [],
   "source": [
    "import pandas as pd\n",
    "import numpy as np\n",
    "\n",
    "# Import thêm dữ thư viện nếu cần"
   ]
  },
  {
   "cell_type": "markdown",
   "metadata": {},
   "source": [
    "# Đọc dữ liệu"
   ]
  },
  {
   "cell_type": "code",
   "execution_count": 3,
   "metadata": {},
   "outputs": [],
   "source": [
    "# Đọc dữ liệu bằng pandas\n",
    "train = pd.read_csv('train.csv')\n",
    "test = pd.read_csv('test.csv')\n",
    "\n",
    "# Lấy các đặc trưng X và giá trị mục tiêu y cho các tập huấn luyện (train) và kiểm tra (test)\n",
    "X_train = train.iloc[:, :-1]    # Dataframe \n",
    "y_train = train.iloc[:, -1]     # Series    (chứa 1 giá trị mục tiêu kiểm tra)\n",
    "\n",
    "X_test = test.iloc[:, :-1]      # Dataframe (chứa 10 đặc trưng kiểm tra)\n",
    "y_test = test.iloc[:, -1]       # Series    (chứa 1 giá trị mục tiêu kiểm tra)\n",
    "\n",
    "# Sinh viên có thể sử dụng các khác nếu cần"
   ]
  },
  {
   "cell_type": "code",
   "execution_count": 4,
   "metadata": {},
   "outputs": [
    {
     "name": "stdout",
     "output_type": "stream",
     "text": [
      "<bound method NDFrame.head of       Gender  10percentage  12percentage  CollegeTier  Degree  collegeGPA  \\\n",
      "0          2         87.80         84.00            1       1       73.82   \n",
      "1          1         57.00         64.50            2       1       65.00   \n",
      "2          1         77.33         85.17            2       1       61.94   \n",
      "3          1         84.30         86.00            1       1       80.40   \n",
      "4          2         82.00         75.00            2       1       64.30   \n",
      "...      ...           ...           ...          ...     ...         ...   \n",
      "2243       1         91.00         73.00            2       2       85.00   \n",
      "2244       2         75.00         73.00            2       1       70.00   \n",
      "2245       2         84.00         77.00            2       1       75.20   \n",
      "2246       1         91.40         65.56            2       1       73.19   \n",
      "2247       1         88.64         65.16            2       1       74.81   \n",
      "\n",
      "      CollegeCityTier  English  Logical  Quant  ...  MechanicalEngg  \\\n",
      "0                   1      650      665    810  ...              -1   \n",
      "1                   0      440      435    210  ...              -1   \n",
      "2                   0      485      475    505  ...              -1   \n",
      "3                   1      675      620    635  ...              -1   \n",
      "4                   1      575      495    365  ...              -1   \n",
      "...               ...      ...      ...    ...  ...             ...   \n",
      "2243                0      555      445    485  ...              -1   \n",
      "2244                1      505      485    445  ...              -1   \n",
      "2245                0      345      585    395  ...              -1   \n",
      "2246                0      385      425    485  ...              -1   \n",
      "2247                1      465      645    505  ...              -1   \n",
      "\n",
      "      ElectricalEngg  TelecomEngg  CivilEngg  conscientiousness  \\\n",
      "0                 -1           -1         -1            -0.1590   \n",
      "1                 -1           -1         -1             1.1336   \n",
      "2                 -1          260         -1             0.5100   \n",
      "3                 -1           -1         -1            -0.4463   \n",
      "4                 -1           -1         -1            -1.4992   \n",
      "...              ...          ...        ...                ...   \n",
      "2243              -1           -1         -1             0.8192   \n",
      "2244              -1           -1         -1            -1.1901   \n",
      "2245              -1           -1         -1            -0.1082   \n",
      "2246              -1           -1         -1            -0.8810   \n",
      "2247              -1           -1         -1             1.4374   \n",
      "\n",
      "      agreeableness  extraversion  nueroticism  openess_to_experience  Salary  \n",
      "0            0.3789        1.2396      0.14590                 0.2889  445000  \n",
      "1            0.0459        1.2396      0.52620                -0.2859  110000  \n",
      "2           -0.1232        1.5428     -0.29020                -0.2875  255000  \n",
      "3            0.2124        0.3174      0.27270                 0.4805  420000  \n",
      "4           -0.7473       -1.0697      0.06223                 0.1864  200000  \n",
      "...             ...           ...          ...                    ...     ...  \n",
      "2243         1.4368       -0.0537     -1.81790                 0.8183  400000  \n",
      "2244         0.9688       -1.0697      1.35490                 0.0284  120000  \n",
      "2245         0.0328       -0.4891     -0.29020                 0.5024  120000  \n",
      "2246         0.1888       -0.3440      0.06230                 0.6603  385000  \n",
      "2247         1.2808       -0.4891     -1.46537                 0.5419  530000  \n",
      "\n",
      "[2248 rows x 24 columns]>\n"
     ]
    }
   ],
   "source": [
    "print(train.head)"
   ]
  },
  {
   "cell_type": "markdown",
   "metadata": {},
   "source": [
    "# Cài đặt hàm"
   ]
  },
  {
   "cell_type": "code",
   "execution_count": 5,
   "metadata": {},
   "outputs": [],
   "source": [
    "# Cài đặt các hàm cần thiết ở đây\n",
    "import numpy\n",
    "def process(X_train, y_train):\n",
    "    X_train = X_train.iloc[:, :11]\n",
    "    X_train = X_train.to_numpy()\n",
    "    y = y_train.to_numpy() \n",
    "    X = np.hstack((np.ones((X_train.shape[0],1)), X_train))\n",
    "    return X, y"
   ]
  },
  {
   "cell_type": "markdown",
   "metadata": {},
   "source": [
    "# Yêu cầu 1a: Sử dụng toàn bộ 11 đặc trưng đầu tiên `Gender`, `10percentage`, `12percentage`, `CollegeTier`, `Degree`, `collegeGPA`, `CollegeCityTier`, `English`, `Logical`, `Quant`, `Domain` (2 điểm) "
   ]
  },
  {
   "cell_type": "code",
   "execution_count": 10,
   "metadata": {},
   "outputs": [],
   "source": [
    "class LinearRegression_1a:\n",
    "        def fit(self, X, y):\n",
    "                X_pinv = np.linalg.inv(X.T @ X) @ X.T\n",
    "                self.w = X_pinv @ y\n",
    "                return self\n",
    "        \n",
    "        def getParams(self):\n",
    "                return self.w\n",
    "        \n",
    "        def predict(self, X):\n",
    "                return np.sum(self.w.ravel()*X, axis = 1)\n",
    "        "
   ]
  },
  {
   "cell_type": "code",
   "execution_count": 7,
   "metadata": {},
   "outputs": [],
   "source": [
    "import matplotlib.pyplot as plt\n",
    "def plot_regression(lr, x, y):\n",
    "    #Plot data\n",
    "    # plt.scatter(x, y, color ='b', marker ='o')\n",
    "\n",
    "    #plot regression line\n",
    "    x_para = x.ravel()\n",
    "    y_pred = lr.predict(x_para)\n",
    "    print(y_pred)\n",
    "    # plt.plot(x_para, y_pred, color='r')\n",
    "\n",
    "    # plt.xlabel('x')\n",
    "    # plt.ylabel('y')\n",
    "\n",
    "    # plt.grid()\n",
    "    # plt.show()"
   ]
  },
  {
   "cell_type": "code",
   "execution_count": 11,
   "metadata": {},
   "outputs": [
    {
     "data": {
      "text/plain": [
       "array([ 49248.08973473, -23183.32950775,    702.76679172,   1259.0187879 ,\n",
       "       -99570.60814068,  18369.96244963,   1297.53200035,  -8836.727123  ,\n",
       "          141.75993906,    145.74234652,    114.64331342,  34955.75040521])"
      ]
     },
     "execution_count": 11,
     "metadata": {},
     "output_type": "execute_result"
    }
   ],
   "source": [
    "X, y = process(X_train,y_train)\n",
    "lr = LinearRegression_1a().fit(X,y)\n",
    "lr.getParams()\n",
    "# plot_regression(lr, X, y)"
   ]
  },
  {
   "cell_type": "code",
   "execution_count": null,
   "metadata": {},
   "outputs": [],
   "source": [
    "# Phần code cho yêu cầu 1a"
   ]
  },
  {
   "cell_type": "code",
   "execution_count": null,
   "metadata": {},
   "outputs": [],
   "source": [
    "# Gọi hàm MAE (tự cài đặt hoặc từ thư viện) trên tập kiểm tra"
   ]
  },
  {
   "cell_type": "markdown",
   "metadata": {},
   "source": [
    "Công thức hồi quy (phần trọng số làm tròn đến 3 chữ số thập phân, ví dụ 0.012345 $\\to$ 0.012)\n",
    "\n",
    "$$\\text{Salary} = ...$$"
   ]
  },
  {
   "cell_type": "markdown",
   "metadata": {},
   "source": [
    "# Yêu cầu 1b: Xây dựng mô hình sử dụng duy nhất 1 đặc trưng tính cách với các đặc trưng tính cách gồm `conscientiousness`, `agreeableness`, `extraversion`, `nueroticism`, `openess_to_experience`, tìm mô hình cho kết quả tốt nhất (1 điểm)"
   ]
  },
  {
   "cell_type": "markdown",
   "metadata": {},
   "source": [
    "Lưu ý: khi sử dụng cross-validation, sinh viên cần xáo trộn dữ liệu 1 lần duy nhất và thực hiện trên toàn bộ đặc trưng"
   ]
  },
  {
   "cell_type": "code",
   "execution_count": null,
   "metadata": {},
   "outputs": [],
   "source": [
    "# Phần code cho yêu cầu 1b\n",
    "# Tìm ra đặc trưng tốt nhất\n",
    "# In ra các kết quả cross-validation như yêu cầu"
   ]
  },
  {
   "cell_type": "code",
   "execution_count": null,
   "metadata": {},
   "outputs": [],
   "source": [
    "# Huấn luyện lại mô hình best_personality_feature_model với đặc trưng tốt nhất trên toàn bộ tập huấn luyện"
   ]
  },
  {
   "cell_type": "code",
   "execution_count": null,
   "metadata": {},
   "outputs": [],
   "source": [
    "# Gọi hàm MAE (tự cài đặt hoặc từ thư viện) trên tập kiểm tra với mô hình best_personality_feature_model"
   ]
  },
  {
   "cell_type": "markdown",
   "metadata": {},
   "source": [
    "Công thức hồi quy (phần trọng số làm tròn đến 3 chữ số thập phân, ví dụ 0.012345 $\\to$ 0.012)\n",
    "\n",
    "$$\\text{Salary} = ...$$"
   ]
  },
  {
   "cell_type": "markdown",
   "metadata": {},
   "source": [
    "# Yêu cầu 1c: Xây dựng mô hình sử dụng duy nhất 1 đặc trưng `English`, `Logical`, `Quant`, tìm mô hình cho kết quả tốt nhất (1 điểm)"
   ]
  },
  {
   "cell_type": "markdown",
   "metadata": {},
   "source": [
    "Lưu ý: khi sử dụng cross-validation, sinh viên cần xáo trộn dữ liệu 1 lần duy nhất và thực hiện trên toàn bộ đặc trưng"
   ]
  },
  {
   "cell_type": "code",
   "execution_count": null,
   "metadata": {},
   "outputs": [],
   "source": [
    "# Phần code cho yêu cầu 1c\n",
    "# Tìm ra đặc trưng tốt nhất\n",
    "# In ra các kết quả cross-validation như yêu cầu"
   ]
  },
  {
   "cell_type": "code",
   "execution_count": null,
   "metadata": {},
   "outputs": [],
   "source": [
    "# Huấn luyện lại mô hình best_skill_feature_model với đặc trưng tốt nhất trên toàn bộ tập huấn luyện"
   ]
  },
  {
   "cell_type": "code",
   "execution_count": null,
   "metadata": {},
   "outputs": [],
   "source": [
    "# Gọi hàm MAE (tự cài đặt hoặc từ thư viện) trên tập kiểm tra với mô hình best_skill_feature_model"
   ]
  },
  {
   "cell_type": "markdown",
   "metadata": {},
   "source": [
    "Công thức hồi quy (phần trọng số làm tròn đến 3 chữ số thập phân, ví dụ 0.012345 $\\to$ 0.012)\n",
    "\n",
    "$$\\text{Salary} = ...$$"
   ]
  },
  {
   "cell_type": "markdown",
   "metadata": {},
   "source": [
    "# Yêu cầu 1d: Sinh viên tự xây dựng mô hình, tìm mô hình cho kết quả tốt nhất (3 điểm)"
   ]
  },
  {
   "cell_type": "markdown",
   "metadata": {},
   "source": [
    "Lưu ý: khi sử dụng cross-validation, sinh viên cần xáo trộn dữ liệu 1 lần duy nhất và thực hiện trên toàn bộ $m$ mô hình mà sinh viên thiết kế"
   ]
  },
  {
   "cell_type": "markdown",
   "metadata": {},
   "source": [
    "## Tìm mô hình"
   ]
  },
  {
   "cell_type": "code",
   "execution_count": null,
   "metadata": {},
   "outputs": [],
   "source": [
    "# Trình bày các phần tìm ra mô hình"
   ]
  },
  {
   "cell_type": "markdown",
   "metadata": {},
   "source": [
    "## Thử nghiệm, so sánh các mô hình"
   ]
  },
  {
   "cell_type": "code",
   "execution_count": null,
   "metadata": {},
   "outputs": [],
   "source": [
    "# Phần code cho yêu cầu 1d\n",
    "# Tìm ra mô hình tốt nhất (tự thiết kế bởi sinh viên)\n",
    "# In ra các kết quả cross-validation như yêu cầu"
   ]
  },
  {
   "cell_type": "code",
   "execution_count": null,
   "metadata": {},
   "outputs": [],
   "source": [
    "# Huấn luyện lại mô hình my_best_model trên toàn bộ tập huấn luyện"
   ]
  },
  {
   "cell_type": "code",
   "execution_count": null,
   "metadata": {},
   "outputs": [],
   "source": [
    "# Gọi hàm MAE (tự cài đặt hoặc từ thư viện) trên tập kiểm tra với mô hình my_best_model"
   ]
  },
  {
   "cell_type": "markdown",
   "metadata": {},
   "source": [
    "Công thức hồi quy (phần trọng số làm tròn đến 3 chữ số thập phân, ví dụ 0.012345 $\\to$ 0.012)\n",
    "\n",
    "$$\\text{Salary} = ...$$"
   ]
  }
 ],
 "metadata": {
  "kernelspec": {
   "display_name": "Python 3.8.5 ('base')",
   "language": "python",
   "name": "python3"
  },
  "language_info": {
   "codemirror_mode": {
    "name": "ipython",
    "version": 3
   },
   "file_extension": ".py",
   "mimetype": "text/x-python",
   "name": "python",
   "nbconvert_exporter": "python",
   "pygments_lexer": "ipython3",
   "version": "3.10.9"
  },
  "orig_nbformat": 4,
  "vscode": {
   "interpreter": {
    "hash": "15af99fd1a1a3f0a3416ea421564e792a8676a13670c2eed127d89ab0518a27b"
   }
  }
 },
 "nbformat": 4,
 "nbformat_minor": 2
}
