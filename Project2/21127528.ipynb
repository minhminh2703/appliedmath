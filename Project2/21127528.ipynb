{
 "cells": [
  {
   "cell_type": "code",
   "execution_count": null,
   "id": "e3c89c2f",
   "metadata": {},
   "outputs": [],
   "source": [
    "from PIL import Image\n",
    "import matplotlib.pyplot as plt\n",
    "import numpy as np"
   ]
  },
  {
   "cell_type": "markdown",
   "id": "e5e47cc1",
   "metadata": {},
   "source": [
    "### ADJUST BRIGHTNESS <a class=\"anchor\" id=\"c11\"></a>"
   ]
  },
  {
   "cell_type": "code",
   "execution_count": null,
   "id": "6bfe60f8",
   "metadata": {},
   "outputs": [],
   "source": [
    "def adjust_brightness(image_arr, level_brightness):\n",
    "    img_result = image_arr.astype(np.int16) + level_brightness\n",
    "    img_result = np.clip(img_result, 0, 255)\n",
    "    return img_result.astype(np.uint8)"
   ]
  },
  {
   "cell_type": "markdown",
   "id": "cd93134d",
   "metadata": {},
   "source": [
    "### ADJUST CONTRAST <a class=\"anchor\" id=\"c11\"></a>"
   ]
  },
  {
   "cell_type": "code",
   "execution_count": null,
   "id": "45e50564",
   "metadata": {},
   "outputs": [],
   "source": [
    "def adjust_contrast(image_arr, level_contrast):\n",
    "    img_result = level_contrast*(image_arr.astype(np.float32) - 128) + 128\n",
    "    img_result = np.clip(img_result, 0, 255)\n",
    "    return img_result.astype(np.uint8)"
   ]
  },
  {
   "cell_type": "markdown",
   "id": "5eae86de",
   "metadata": {},
   "source": [
    "### FLIP UPDOWN <a class=\"anchor\" id=\"c11\"></a>"
   ]
  },
  {
   "cell_type": "code",
   "execution_count": null,
   "id": "9d6dcce7",
   "metadata": {},
   "outputs": [],
   "source": [
    "def flip_updown(image_arr):\n",
    "    return np.flipud(image_arr)"
   ]
  },
  {
   "cell_type": "markdown",
   "id": "bcbf9e2d",
   "metadata": {},
   "source": [
    "### FLIP RIGHTLEFT <a class=\"anchor\" id=\"c11\"></a>"
   ]
  },
  {
   "cell_type": "code",
   "execution_count": null,
   "id": "ce60e202",
   "metadata": {},
   "outputs": [],
   "source": [
    "def flip_rightleft(image_arr):\n",
    "    return np.fliplr(image_arr)"
   ]
  },
  {
   "cell_type": "markdown",
   "id": "fe57fef5",
   "metadata": {},
   "source": [
    "### RGB TO GREY SCALE/ SEPIA <a class=\"anchor\" id=\"c11\"></a>\n"
   ]
  },
  {
   "cell_type": "code",
   "execution_count": null,
   "id": "f45526ad",
   "metadata": {},
   "outputs": [],
   "source": [
    "def convert_gray_sepia(image_arr, method = 'grayscale'):\n",
    "    if method == 'grayscale':\n",
    "        return np.mean(image_arr.astype(np.float64), axis = 2).astype(np.uint8)\n",
    "    elif method == 'sepia':\n",
    "        image_arr = image_arr.astype(np.float64)\n",
    "        R_scalar = np.array([0.393, 0.769, 0.189])\n",
    "        G_scalar = np.array([0.349, 0.686, 0.168])\n",
    "        B_scalar = np.array([0.272, 0.534, 0.131])\n",
    "        copy_image = image_arr.copy()\n",
    "        image_arr[:,:,0] = np.dot(copy_image, R_scalar)\n",
    "        image_arr[:,:,1] = np.dot(copy_image,G_scalar)\n",
    "        image_arr[:,:,2] = np.dot(copy_image,B_scalar)\n",
    "\n",
    "        return np.clip(image_arr,0,255).astype(np.uint8)"
   ]
  },
  {
   "cell_type": "markdown",
   "id": "e08156a1",
   "metadata": {},
   "source": [
    "### BLUR IMAGE WITH GAUSSIAN KERNEL<a class=\"anchor\" id=\"c11\"></a>\n"
   ]
  },
  {
   "cell_type": "code",
   "execution_count": null,
   "id": "8ea93140",
   "metadata": {},
   "outputs": [],
   "source": [
    "def blur_image(image_arr):\n",
    "    #save the boundary in the return image array\n",
    "    new_image = np.ones_like(image_arr)\n",
    "    gaussian_kernel = np.array([[1,4,6,4,1],\n",
    "                                [4,16,24,16,4],\n",
    "                                [6,24,36,24,6],\n",
    "                                [4,16,24,16,4],\n",
    "                                [1,4,6,4,1]])\n",
    "    gaussian_kernel = gaussian_kernel/256\n",
    "    if(image_arr.ndim == 3):\n",
    "        for channel in range(3):\n",
    "            new_image[:, :, channel] = convolution_blur(image_arr[:, :, channel], gaussian_kernel)\n",
    "    \n",
    "    else:\n",
    "        new_image = convolution_blur(image_arr, gaussian_kernel)\n",
    "    \n",
    "    return np.clip(new_image,0,255)\n",
    "\n",
    "def convolution_blur(channel_matrix, gausian_kernel):\n",
    "    result_matrix = np.ones_like(channel_matrix)\n",
    "\n",
    "    result_matrix[:1,:] = channel_matrix[:1,:]\n",
    "    result_matrix[:-2,:] = channel_matrix[:-2,:]\n",
    "    result_matrix[:,:1] = channel_matrix[:,:1]\n",
    "    result_matrix[:,:-2] = channel_matrix[:, :-2]\n",
    "\n",
    "    for i in range(2, channel_matrix.shape[0]-3):\n",
    "        for j in range(2, channel_matrix.shape[1]-3):\n",
    "            sub_arr = channel_matrix[i-2:i+3, j-2:j+3]\n",
    "            result_matrix[i][j] = np.sum(sub_arr*gausian_kernel)\n",
    "\n",
    "    return result_matrix"
   ]
  },
  {
   "cell_type": "markdown",
   "id": "f7db5433",
   "metadata": {},
   "source": [
    "### SHARPEN IMAGE <a class=\"anchor\" id=\"c11\"></a>\n"
   ]
  },
  {
   "cell_type": "code",
   "execution_count": null,
   "id": "b40567a6",
   "metadata": {},
   "outputs": [],
   "source": [
    "def sharpen_image(image_arr):\n",
    "    #save the boundary in the return image array\n",
    "    new_image = np.ones_like(image_arr)\n",
    "    gaussian_kernel = np.array([[1,4,6,4,1],\n",
    "                                [4,16,24,16,4],\n",
    "                                [6,24,-476,24,6],\n",
    "                                [4,16,24,16,4],\n",
    "                                [1,4,6,4,1]])/-256\n",
    "    if(image_arr.ndim == 3):\n",
    "        for channel in range(3):\n",
    "            new_image[:, :, channel] = convolution_sharpen(image_arr[:, :, channel], gaussian_kernel)\n",
    "    \n",
    "    else:\n",
    "        new_image = convolution_sharpen(image_arr, gaussian_kernel)\n",
    "    return np.clip(new_image,0,255)\n",
    "\n",
    "def convolution_sharpen(channel_matrix, gausian_kernel):\n",
    "    result_matrix = np.ones_like(channel_matrix)\n",
    "    result_matrix[:1,:] = channel_matrix[:1,:]\n",
    "    result_matrix[:-2,:] = channel_matrix[:-2,:]\n",
    "    result_matrix[:,:1] = channel_matrix[:,:1]\n",
    "    result_matrix[:,:-2] = channel_matrix[:, :-2]\n",
    "\n",
    "    for i in range(2, channel_matrix.shape[0]-3):\n",
    "        for j in range(2, channel_matrix.shape[1]-3):\n",
    "            sub_arr = channel_matrix[i-2:i+3, j-2:j+3]\n",
    "            result_matrix[i][j] = np.sum(sub_arr*gausian_kernel)\n",
    "\n",
    "    return result_matrix"
   ]
  },
  {
   "cell_type": "markdown",
   "id": "1ebd5c0c",
   "metadata": {},
   "source": [
    "### CROP FROM CENTER <a class=\"anchor\" id=\"c11\"></a>\n"
   ]
  },
  {
   "cell_type": "code",
   "execution_count": null,
   "id": "5e09b613",
   "metadata": {},
   "outputs": [],
   "source": [
    "def crop_center(image_arr, height, width):\n",
    "    width = min(width, image_arr.shape[1])\n",
    "    height = min(height, image_arr.shape[0])\n",
    "    center = [image_arr.shape[1]//2, image_arr.shape[0]//2]\n",
    "    first_corner = [center[0] - width//2, center[1] - height//2]\n",
    "    return image_arr[first_corner[1] : first_corner[1] + height, first_corner[0]: first_corner[0] + width,:]"
   ]
  },
  {
   "cell_type": "markdown",
   "id": "5b669afd",
   "metadata": {},
   "source": [
    "### CROP CIRCLE <a class=\"anchor\" id=\"c11\"></a>\n"
   ]
  },
  {
   "cell_type": "code",
   "execution_count": null,
   "id": "0d3013de",
   "metadata": {},
   "outputs": [],
   "source": [
    "def create_circle_mask(image_arr):\n",
    "    center_y = image_arr.shape[0]//2\n",
    "    center_x = image_arr.shape[1]//2\n",
    "    y, x = np.ogrid[0:image_arr.shape[0], 0:image_arr.shape[1]]\n",
    "    radius = min(center_x, center_y)\n",
    "    circle_mask = (x-center_x)**2 + (y-center_y)**2\n",
    "    return circle_mask <= radius **2"
   ]
  },
  {
   "cell_type": "code",
   "execution_count": null,
   "id": "9d602692",
   "metadata": {},
   "outputs": [],
   "source": [
    "def crop_circle(image_arr):\n",
    "    mask = create_circle_mask(image_arr)\n",
    "    new_image = image_arr.copy()\n",
    "    new_image[~mask] = 0\n",
    "    return new_image"
   ]
  },
  {
   "cell_type": "markdown",
   "id": "2048e9f2",
   "metadata": {},
   "source": [
    "### CROP ELLIPSE <a class=\"anchor\" id=\"c11\"></a>\n"
   ]
  },
  {
   "cell_type": "markdown",
   "id": "05131f89",
   "metadata": {},
   "source": [
    "1. Crop a picture to square first:"
   ]
  },
  {
   "cell_type": "code",
   "execution_count": null,
   "id": "f1ac0dbe",
   "metadata": {},
   "outputs": [],
   "source": [
    "def crop_to_square(image_arr):\n",
    "    side = min(image_arr.shape[0], image_arr.shape[1]) #the length side of square\n",
    "    center = [image_arr.shape[1]//2, image_arr.shape[0]//2]\n",
    "    first_corner = [center[0] - side//2, center[1] - side // 2]\n",
    "    return image_arr[first_corner[1] : first_corner[1] + side, first_corner[0] : first_corner[0] + side, :]"
   ]
  },
  {
   "cell_type": "markdown",
   "id": "39da63b2",
   "metadata": {},
   "source": [
    "2. Create a mask ellipse"
   ]
  },
  {
   "cell_type": "code",
   "execution_count": null,
   "id": "2b25e844",
   "metadata": {},
   "outputs": [],
   "source": [
    "def create_mask_ellipse(image_arr, angle):\n",
    "    side = min(image_arr.shape[0], image_arr.shape[1])\n",
    "    center = [image_arr.shape[1]//2, image_arr.shape[0]//2]\n",
    "    \n",
    "    #major axis and minor axis is in form of power of 2\n",
    "\n",
    "    major_axis = 0.4225* side**2\n",
    "    minor_axis = 0.0775* side**2\n",
    "    y, x = np.ogrid[:image_arr.shape[0], :image_arr.shape[1]]\n",
    " \n",
    "    x_val = x - center[0]\n",
    "    y_val = y - center[1]\n",
    "    radian_angle = np.radians(angle)\n",
    "    cos_val = np.cos(radian_angle)\n",
    "    sin_val = np.sin(radian_angle)\n",
    "    \n",
    "    ellipse_domain = ((x_val*cos_val + y_val*sin_val)**2/major_axis) + ((x_val*sin_val - y_val*cos_val)**2/minor_axis)\n",
    "    return ellipse_domain <= 1"
   ]
  },
  {
   "cell_type": "markdown",
   "id": "0baf5579",
   "metadata": {},
   "source": [
    "3. Crop to Ellipse"
   ]
  },
  {
   "cell_type": "code",
   "execution_count": null,
   "id": "ff3ec118",
   "metadata": {},
   "outputs": [],
   "source": [
    "def crop_to_ellipse(image_arr):\n",
    "    square_img = crop_to_square(image_arr)\n",
    "    \n",
    "    ellipse1 = create_mask_ellipse(square_img, 45)\n",
    "    ellipse2 = create_mask_ellipse(square_img, 135)\n",
    "    ellipse_combine = ellipse1 | ellipse2\n",
    "    \n",
    "    new_image = square_img.copy()\n",
    "    new_image[~ellipse_combine] = 0\n",
    "    return new_image"
   ]
  },
  {
   "cell_type": "code",
   "execution_count": null,
   "id": "f589fec8",
   "metadata": {},
   "outputs": [],
   "source": [
    "def menu():\n",
    "    print(\"---------------- MENU ----------------\")\n",
    "    print(\"0    - Do all features.\")\n",
    "    print(\"1    - Adjust the brightness.\")\n",
    "    print(\"2.   - Adjust the contrast.\")\n",
    "    print(\"3.   - Flip image.\")\n",
    "    print(\"4.   - Change RGB picture to Gray or Sepia picture.\")\n",
    "    print(\"5.   - Blur and sharpen image.\")\n",
    "    print(\"6    - Crop picture in Center.\")\n",
    "    print(\"7.   - Crop in Circle frame.\")\n",
    "    print(\"8.   - Crop in 2 intersecting Ellipse.\")\n",
    "    print(\"--------------------------------------\")\n",
    "\n"
   ]
  },
  {
   "cell_type": "code",
   "execution_count": null,
   "id": "54be0c0f",
   "metadata": {},
   "outputs": [],
   "source": [
    "def convert_png_jpg(png_path,nameFile):\n",
    "    try:\n",
    "        img = Image.open(png_path)\n",
    "        if img.mode == 'RGBA':\n",
    "            img = img.convert('RGB')\n",
    "        img.save(nameFile, 'JPEG')\n",
    "        print(f\"Image successfully converted to jpg\")\n",
    "    except Exception as e:\n",
    "        print(f\"Error converting the image: {e}\")"
   ]
  },
  {
   "cell_type": "code",
   "execution_count": null,
   "id": "42189f73",
   "metadata": {},
   "outputs": [],
   "source": [
    "def read_Image_array(img_path):\n",
    "    try:\n",
    "        if img_path.split(\".\")[-1] == 'png': \n",
    "            convert_png_jpg(img_path, img_path.split(\".\")[0] + \".jpg\")\n",
    "            img_path = img_path.split(\".\")[0]+'.jpg'\n",
    "            \n",
    "        image = Image.open(img_path)\n",
    "        if image.mode != 'RGB':\n",
    "            image = image.convert('RGB')\n",
    "        return np.array(image)\n",
    "    except Exception as e:\n",
    "        print(f\"Error while reading the image: {e}\")\n",
    "        return None"
   ]
  },
  {
   "cell_type": "code",
   "execution_count": null,
   "id": "f4770b5a",
   "metadata": {},
   "outputs": [],
   "source": [
    "def getNameImage(image_path):\n",
    "    return image_path.split(\".\")[0]"
   ]
  },
  {
   "cell_type": "code",
   "execution_count": null,
   "id": "d321543d",
   "metadata": {},
   "outputs": [],
   "source": [
    "def exportImage(image_path, output_name, adjust_picture): \n",
    "    if adjust_picture.ndim == 3:\n",
    "        mode = 'RGB'\n",
    "    else:\n",
    "        mode = 'L'  # 'L' stands for Grayscale\n",
    "\n",
    "    file_extension = image_path.split(\".\")[-1]\n",
    "    output_path = f\"./{output_name}.{file_extension}\"\n",
    "\n",
    "    try:\n",
    "        im = Image.fromarray(adjust_picture, mode=mode)\n",
    "        im.save(output_path)\n",
    "        print(f\"Image saved as {output_path}.\")\n",
    "    except Exception as e:\n",
    "        print(f\"An error occurred while saving the image: {e}\")"
   ]
  },
  {
   "cell_type": "code",
   "execution_count": null,
   "id": "21da5744",
   "metadata": {},
   "outputs": [],
   "source": [
    "def main():\n",
    "    #get input picture and get their array\n",
    "    menu()\n",
    "    img_path = input(\"Enter your image path: \")\n",
    "    image_arr = read_Image_array(img_path)\n",
    "    \n",
    "    \n",
    "    choice = input(\"Enter your choice: \")\n",
    "    if choice == '0':\n",
    "        #bright\n",
    "        bright_picture = adjust_brightness(image_arr, 50)\n",
    "        exportImage(img_path, getNameImage(img_path) + \"_bright\", bright_picture)\n",
    "        \n",
    "        #constrast\n",
    "        contrast_picture = adjust_contrast(image_arr, 1.5)\n",
    "        exportImage(img_path, getNameImage(img_path) + \"_contrast\", contrast_picture)\n",
    "        \n",
    "        #flip updown\n",
    "        flip_ud = flip_updown(image_arr)\n",
    "        exportImage(img_path, getNameImage(img_path) + \"_updown\", flip_ud)\n",
    "        \n",
    "        #flip rightleft\n",
    "        flip_rl = flip_rightleft(image_arr)\n",
    "        exportImage(img_path, getNameImage(img_path) + \"_rightleft\", flip_rl)\n",
    "        \n",
    "        #Change to Gray\n",
    "        gray_pic = convert_gray_sepia(image_arr, method = 'grayscale')\n",
    "        exportImage(img_path, getNameImage(img_path) + \"_gray\", gray_pic)\n",
    "        \n",
    "        #Change to Sepia\n",
    "        sepia_pic = convert_gray_sepia(image_arr, method = 'sepia')\n",
    "        exportImage(img_path, getNameImage(img_path) + \"_sepia\", sepia_pic)\n",
    "        \n",
    "        #Blur image\n",
    "        blur_img = blur_image(image_arr)\n",
    "        exportImage(img_path, getNameImage(img_path) + \"_blur\", blur_img)\n",
    "        \n",
    "        #sharpen image \n",
    "        sharpen_img = sharpen_image(blur_img)\n",
    "        exportImage(img_path, getNameImage(img_path) + \"_sharpen\", sharpen_img)\n",
    "\n",
    "        #crop center\n",
    "        center_pic = crop_center(image_arr,200,200)\n",
    "        exportImage(img_path, getNameImage(img_path) + \"_center\", center_pic)\n",
    "\n",
    "        #crop circle\n",
    "        circle_pic = crop_circle(image_arr)\n",
    "        exportImage(img_path, getNameImage(img_path) + \"_circle\", circle_pic)\n",
    "\n",
    "        #crop to ellipse\n",
    "        ellipse_pic = crop_to_ellipse(image_arr)\n",
    "        exportImage(img_path, getNameImage(img_path) + \"_ellipse\", ellipse_pic)\n",
    "        \n",
    "    elif choice == '1':\n",
    "        bright_picture = adjust_brightness(image_arr, 50)\n",
    "        exportImage(img_path, getNameImage(img_path) + \"_bright\", bright_picture)\n",
    "        plt.imshow(bright_picture)\n",
    "\n",
    "    elif choice == '2':\n",
    "        contrast_picture = adjust_contrast(image_arr, 1.5)\n",
    "        exportImage(img_path, getNameImage(img_path) + \"_contrast\", contrast_picture)\n",
    "        plt.imshow(contrast_picture)\n",
    "\n",
    "    elif choice == '3':\n",
    "        print(\"1. Flip updown\")\n",
    "        print(\"2. Flip rightleft\")\n",
    "        subchoice = input(\"Your choice: \")\n",
    "        if subchoice == '1':\n",
    "            flip_ud = flip_updown(image_arr)\n",
    "            exportImage(img_path, getNameImage(img_path) + \"_updown\", flip_ud)\n",
    "            plt.imshow(flip_ud)\n",
    "        elif subchoice == '2':\n",
    "            flip_rl = flip_rightleft(image_arr)\n",
    "            exportImage(img_path, getNameImage(img_path) + \"_rightleft\", flip_rl)\n",
    "            plt.imshow(flip_rl)\n",
    "        else:\n",
    "            print(\"Wrong input!\")\n",
    "\n",
    "    elif choice == '4':\n",
    "        #Change to Gray\n",
    "        gray_pic = convert_gray_sepia(image_arr, method = 'grayscale')\n",
    "        exportImage(img_path, getNameImage(img_path) + \"_gray\", gray_pic)\n",
    "        plt.figure(figsize=(12, 12))\n",
    "        plt.subplot(2,2,1)\n",
    "        plt.imshow(gray_pic, cmap = 'gray')\n",
    "        plt.title(\"Gray Image\",size = 9)\n",
    "\n",
    "        #Change to Sepia\n",
    "        sepia_pic = convert_gray_sepia(image_arr, method = 'sepia')\n",
    "        exportImage(img_path, getNameImage(img_path) + \"_sepia\", sepia_pic)\n",
    "        plt.subplot(2,2,2)\n",
    "        plt.imshow(sepia_pic)\n",
    "        plt.title(\"Sepia Image\",size = 9)\n",
    "    \n",
    "    elif choice == '5':\n",
    "        #Blur image\n",
    "        blur_img = blur_image(image_arr)\n",
    "        exportImage(img_path, getNameImage(img_path) + \"_blur\", blur_img)\n",
    "\n",
    "        #Sharpen image\n",
    "        sharpen_img = sharpen_image(blur_img)\n",
    "        exportImage(img_path, getNameImage(img_path) + \"_sharpen\", sharpen_img)\n",
    "        \n",
    "    elif choice == '6':\n",
    "        center_pic = crop_center(image_arr,200,200)\n",
    "        exportImage(img_path, getNameImage(img_path) + \"_center\", center_pic)\n",
    "        plt.imshow(center_pic)\n",
    "\n",
    "    elif choice == '7':\n",
    "        circle_pic = crop_circle(image_arr)\n",
    "        exportImage(img_path, getNameImage(img_path) + \"_circle\", circle_pic)\n",
    "        plt.imshow(circle_pic)\n",
    "\n",
    "    elif choice == '8':\n",
    "        ellipse_pic = crop_to_ellipse(image_arr)\n",
    "        exportImage(img_path, getNameImage(img_path) + \"_ellipse\", ellipse_pic)\n",
    "        plt.imshow(ellipse_pic)\n",
    "    else:\n",
    "        print(\"Wrong input!\")\n",
    "  \n",
    "if __name__ == \"__main__\":\n",
    "    main()\n"
   ]
  }
 ],
 "metadata": {
  "kernelspec": {
   "display_name": "Python 3 (ipykernel)",
   "language": "python",
   "name": "python3"
  },
  "language_info": {
   "codemirror_mode": {
    "name": "ipython",
    "version": 3
   },
   "file_extension": ".py",
   "mimetype": "text/x-python",
   "name": "python",
   "nbconvert_exporter": "python",
   "pygments_lexer": "ipython3",
   "version": "3.10.9"
  }
 },
 "nbformat": 4,
 "nbformat_minor": 5
}
